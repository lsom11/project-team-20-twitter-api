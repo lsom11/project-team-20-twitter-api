{
 "cells": [
  {
   "cell_type": "code",
   "execution_count": 30,
   "id": "934c6c43-4dee-4df8-a823-96e8563c4371",
   "metadata": {},
   "outputs": [
    {
     "data": {
      "text/html": [
       "<div>\n",
       "<style scoped>\n",
       "    .dataframe tbody tr th:only-of-type {\n",
       "        vertical-align: middle;\n",
       "    }\n",
       "\n",
       "    .dataframe tbody tr th {\n",
       "        vertical-align: top;\n",
       "    }\n",
       "\n",
       "    .dataframe thead th {\n",
       "        text-align: right;\n",
       "    }\n",
       "</style>\n",
       "<table border=\"1\" class=\"dataframe\">\n",
       "  <thead>\n",
       "    <tr style=\"text-align: right;\">\n",
       "      <th></th>\n",
       "      <th>country</th>\n",
       "      <th>subnational1</th>\n",
       "      <th>threshold</th>\n",
       "      <th>area_ha</th>\n",
       "      <th>extent_2000_ha</th>\n",
       "      <th>extent_2010_ha</th>\n",
       "      <th>abg_co2_stock_2000__Mg</th>\n",
       "      <th>whrc_aboveground_co2_emissions_Mg_2001</th>\n",
       "      <th>whrc_aboveground_co2_emissions_Mg_2002</th>\n",
       "      <th>whrc_aboveground_co2_emissions_Mg_2003</th>\n",
       "      <th>...</th>\n",
       "      <th>whrc_aboveground_co2_emissions_Mg_2012</th>\n",
       "      <th>whrc_aboveground_co2_emissions_Mg_2013</th>\n",
       "      <th>whrc_aboveground_co2_emissions_Mg_2014</th>\n",
       "      <th>whrc_aboveground_co2_emissions_Mg_2015</th>\n",
       "      <th>whrc_aboveground_co2_emissions_Mg_2016</th>\n",
       "      <th>whrc_aboveground_co2_emissions_Mg_2017</th>\n",
       "      <th>whrc_aboveground_co2_emissions_Mg_2018</th>\n",
       "      <th>whrc_aboveground_co2_emissions_Mg_2019</th>\n",
       "      <th>whrc_aboveground_co2_emissions_Mg_2020</th>\n",
       "      <th>avg</th>\n",
       "    </tr>\n",
       "  </thead>\n",
       "  <tbody>\n",
       "  </tbody>\n",
       "</table>\n",
       "<p>0 rows × 28 columns</p>\n",
       "</div>"
      ],
      "text/plain": [
       "Empty DataFrame\n",
       "Columns: [country, subnational1, threshold, area_ha, extent_2000_ha, extent_2010_ha, abg_co2_stock_2000__Mg, whrc_aboveground_co2_emissions_Mg_2001, whrc_aboveground_co2_emissions_Mg_2002, whrc_aboveground_co2_emissions_Mg_2003, whrc_aboveground_co2_emissions_Mg_2004, whrc_aboveground_co2_emissions_Mg_2005, whrc_aboveground_co2_emissions_Mg_2006, whrc_aboveground_co2_emissions_Mg_2007, whrc_aboveground_co2_emissions_Mg_2008, whrc_aboveground_co2_emissions_Mg_2009, whrc_aboveground_co2_emissions_Mg_2010, whrc_aboveground_co2_emissions_Mg_2011, whrc_aboveground_co2_emissions_Mg_2012, whrc_aboveground_co2_emissions_Mg_2013, whrc_aboveground_co2_emissions_Mg_2014, whrc_aboveground_co2_emissions_Mg_2015, whrc_aboveground_co2_emissions_Mg_2016, whrc_aboveground_co2_emissions_Mg_2017, whrc_aboveground_co2_emissions_Mg_2018, whrc_aboveground_co2_emissions_Mg_2019, whrc_aboveground_co2_emissions_Mg_2020, avg]\n",
       "Index: []\n",
       "\n",
       "[0 rows x 28 columns]"
      ]
     },
     "execution_count": 30,
     "metadata": {},
     "output_type": "execute_result"
    }
   ],
   "source": [
    "import pandas\n",
    "\n",
    "df = pandas.read_csv(\"data/co2_emissions_by_country.csv\")\n",
    "emission_columns = ['whrc_aboveground_co2_emissions_Mg_2001','whrc_aboveground_co2_emissions_Mg_2002','whrc_aboveground_co2_emissions_Mg_2003','whrc_aboveground_co2_emissions_Mg_2004','whrc_aboveground_co2_emissions_Mg_2005','whrc_aboveground_co2_emissions_Mg_2006','whrc_aboveground_co2_emissions_Mg_2007','whrc_aboveground_co2_emissions_Mg_2008','whrc_aboveground_co2_emissions_Mg_2009','whrc_aboveground_co2_emissions_Mg_2010','whrc_aboveground_co2_emissions_Mg_2011','whrc_aboveground_co2_emissions_Mg_2012','whrc_aboveground_co2_emissions_Mg_2013','whrc_aboveground_co2_emissions_Mg_2014','whrc_aboveground_co2_emissions_Mg_2015','whrc_aboveground_co2_emissions_Mg_2016','whrc_aboveground_co2_emissions_Mg_2017','whrc_aboveground_co2_emissions_Mg_2018','whrc_aboveground_co2_emissions_Mg_2019','whrc_aboveground_co2_emissions_Mg_2020',]\n",
    "\n",
    "df['avg'] = df[emission_columns].mean(axis=1)\n",
    "filtered_df = df[df['avg'].notnull()]\n",
    "filtered_df\n",
    "# from pyspark.sql import SparkSession\n",
    "# from pyspark.sql.functions import udf, array, col\n",
    "# from pyspark.sql.types import DoubleType, StringType, IntegerType, StructField, StructType\n",
    "\n",
    "\n",
    "# tweet_file = \"data/co2_emissions_by_country.csv\"\n",
    "# spark = SparkSession.builder.appName(\"CO2ByCountry\").getOrCreate()\n",
    "\n",
    "# schema = StructType([\n",
    "#     StructField(\"country\", StringType(), True),\n",
    "#     StructField(\"subnational1\", StringType(), True),\n",
    "#     StructField(\"threshold\", IntegerType(), True),\n",
    "#     StructField(\"area_ha\", IntegerType(), True),\n",
    "#     StructField(\"extent_2000_ha\", IntegerType(), True),\n",
    "#     StructField(\"extent_2010_ha\", IntegerType(), True),\n",
    "#     StructField(\"abg_co2_stock_2000__Mg\", IntegerType(), True),\n",
    "#     StructField(\"whrc_aboveground_co2_emissions_Mg_2001\", IntegerType(), True),\n",
    "#     StructField(\"whrc_aboveground_co2_emissions_Mg_2002\", IntegerType(), True),\n",
    "#     StructField(\"whrc_aboveground_co2_emissions_Mg_2003\", IntegerType(), True),\n",
    "#     StructField(\"whrc_aboveground_co2_emissions_Mg_2004\", IntegerType(), True),\n",
    "#     StructField(\"whrc_aboveground_co2_emissions_Mg_2005\", IntegerType(), True),\n",
    "#     StructField(\"whrc_aboveground_co2_emissions_Mg_2006\", IntegerType(), True),\n",
    "#     StructField(\"whrc_aboveground_co2_emissions_Mg_2007\", IntegerType(), True),\n",
    "#     StructField(\"whrc_aboveground_co2_emissions_Mg_2008\", IntegerType(), True),\n",
    "#     StructField(\"whrc_aboveground_co2_emissions_Mg_2009\", IntegerType(), True),\n",
    "#     StructField(\"whrc_aboveground_co2_emissions_Mg_2010\", IntegerType(), True),\n",
    "#     StructField(\"whrc_aboveground_co2_emissions_Mg_2011\", IntegerType(), True),\n",
    "#     StructField(\"whrc_aboveground_co2_emissions_Mg_2012\", IntegerType(), True),\n",
    "#     StructField(\"whrc_aboveground_co2_emissions_Mg_2013\", IntegerType(), True),\n",
    "#     StructField(\"whrc_aboveground_co2_emissions_Mg_2014\", IntegerType(), True),\n",
    "#     StructField(\"whrc_aboveground_co2_emissions_Mg_2015\", IntegerType(), True),\n",
    "#     StructField(\"whrc_aboveground_co2_emissions_Mg_2016\", IntegerType(), True),\n",
    "#     StructField(\"whrc_aboveground_co2_emissions_Mg_2017\", IntegerType(), True),\n",
    "#     StructField(\"whrc_aboveground_co2_emissions_Mg_2018\", IntegerType(), True),\n",
    "#     StructField(\"whrc_aboveground_co2_emissions_Mg_2019\", IntegerType(), True),\n",
    "#     StructField(\"whrc_aboveground_co2_emissions_Mg_2020\", IntegerType(), True)\n",
    "# ])\n",
    "\n",
    "# df = spark.read.format('csv').option(\"delimter\", \",\").schema(schema).option('header', 'true').load('data/co2_emissions_by_country.csv')\n",
    "# df = tweet_data.dropDuplicates()\n",
    "\n",
    "# df\n",
    "# # emission_coluns = [col('whrc_aboveground_co2_emissions_Mg_2005')]\n",
    "\n",
    "# # avg_cols = udf(lambda array: sum(array)/len(array), DoubleType())\n",
    "# # df.withColumn(\"average\", avg_cols(array(emission_columns))).show(truncate=False)\n",
    "\n",
    "# # spark.stop()"
   ]
  },
  {
   "cell_type": "code",
   "execution_count": null,
   "id": "53f79257-7b1f-4ab4-8efb-9b94a31b053c",
   "metadata": {},
   "outputs": [],
   "source": []
  },
  {
   "cell_type": "code",
   "execution_count": null,
   "id": "c9626c73-4f0d-4b97-8756-41bfcc9ec5bc",
   "metadata": {},
   "outputs": [],
   "source": []
  },
  {
   "cell_type": "code",
   "execution_count": null,
   "id": "2fc62843-81f4-46d0-8e3e-f762bb12d769",
   "metadata": {},
   "outputs": [],
   "source": []
  },
  {
   "cell_type": "code",
   "execution_count": null,
   "id": "69efea1b-8009-447f-a50b-9480d9758aaf",
   "metadata": {},
   "outputs": [],
   "source": []
  },
  {
   "cell_type": "code",
   "execution_count": null,
   "id": "707a3ff7-d3b1-43ce-8876-920043713eed",
   "metadata": {},
   "outputs": [],
   "source": []
  },
  {
   "cell_type": "code",
   "execution_count": null,
   "id": "17b956d5-b2ce-4fe1-a539-a185f1966285",
   "metadata": {},
   "outputs": [],
   "source": []
  },
  {
   "cell_type": "code",
   "execution_count": null,
   "id": "7efd16bb-023f-45aa-9782-829d0f0ccb79",
   "metadata": {},
   "outputs": [],
   "source": []
  },
  {
   "cell_type": "code",
   "execution_count": null,
   "id": "9661ce2f-373d-4a19-b2e8-5391dafa8086",
   "metadata": {},
   "outputs": [],
   "source": []
  },
  {
   "cell_type": "code",
   "execution_count": null,
   "id": "6a1b106f-a64b-461e-a110-a6b706a993ca",
   "metadata": {},
   "outputs": [],
   "source": []
  },
  {
   "cell_type": "code",
   "execution_count": null,
   "id": "8beaf2d3-ae54-485b-97c7-ee908f7e12d1",
   "metadata": {},
   "outputs": [],
   "source": []
  },
  {
   "cell_type": "code",
   "execution_count": null,
   "id": "6b7bb9d8-9400-401b-beb8-cdba4d7b4295",
   "metadata": {},
   "outputs": [],
   "source": []
  },
  {
   "cell_type": "code",
   "execution_count": null,
   "id": "65aba44d-fbd0-411b-8466-f78d11c6fab1",
   "metadata": {},
   "outputs": [],
   "source": []
  },
  {
   "cell_type": "code",
   "execution_count": null,
   "id": "f65366fe-6ae5-497b-b63d-2872d77873cf",
   "metadata": {},
   "outputs": [],
   "source": []
  },
  {
   "cell_type": "code",
   "execution_count": null,
   "id": "51a156da-698e-4e98-ad61-3be946ceadf6",
   "metadata": {},
   "outputs": [],
   "source": []
  },
  {
   "cell_type": "code",
   "execution_count": null,
   "id": "f7cf16f4-2b11-498d-8910-207764ec18b2",
   "metadata": {},
   "outputs": [],
   "source": []
  },
  {
   "cell_type": "code",
   "execution_count": null,
   "id": "8e660cb0-ca55-486a-a27b-81ea6b6e7040",
   "metadata": {},
   "outputs": [],
   "source": []
  },
  {
   "cell_type": "code",
   "execution_count": null,
   "id": "80fdded5-abe9-48c6-9bdb-8d720c5e10f6",
   "metadata": {},
   "outputs": [],
   "source": []
  },
  {
   "cell_type": "code",
   "execution_count": null,
   "id": "159557b4-cb5b-4477-aa69-a68df2a7bf85",
   "metadata": {},
   "outputs": [],
   "source": []
  },
  {
   "cell_type": "code",
   "execution_count": null,
   "id": "74034e4a-7cfc-4c46-b91e-a9715f6d5129",
   "metadata": {},
   "outputs": [],
   "source": []
  },
  {
   "cell_type": "code",
   "execution_count": null,
   "id": "35abfd44-ac86-40e5-a7ae-345a00bf8659",
   "metadata": {},
   "outputs": [],
   "source": []
  },
  {
   "cell_type": "code",
   "execution_count": null,
   "id": "07a582ae-9840-41e8-9222-2602f89e1e11",
   "metadata": {},
   "outputs": [],
   "source": []
  },
  {
   "cell_type": "code",
   "execution_count": null,
   "id": "b80b7887-0047-458e-9a8a-90d59656d1a5",
   "metadata": {},
   "outputs": [],
   "source": []
  },
  {
   "cell_type": "code",
   "execution_count": null,
   "id": "e3b27659-bd20-4b45-b44f-33ecbf51fc34",
   "metadata": {},
   "outputs": [],
   "source": []
  },
  {
   "cell_type": "code",
   "execution_count": null,
   "id": "5c4a5e91-c05d-4e19-9b20-ecb04037a239",
   "metadata": {},
   "outputs": [],
   "source": []
  },
  {
   "cell_type": "code",
   "execution_count": null,
   "id": "875c836c-c2c3-4171-aff2-5baaefa6e511",
   "metadata": {},
   "outputs": [],
   "source": []
  },
  {
   "cell_type": "code",
   "execution_count": null,
   "id": "7583dc64-017f-4ba1-9948-6c7ed21304b5",
   "metadata": {},
   "outputs": [],
   "source": []
  },
  {
   "cell_type": "code",
   "execution_count": null,
   "id": "bdc315c2-a7fa-4f2a-8008-6c927d6d52b2",
   "metadata": {},
   "outputs": [],
   "source": []
  },
  {
   "cell_type": "code",
   "execution_count": null,
   "id": "1e6d41c8-d6e8-4dbe-b903-eeee3c7128e7",
   "metadata": {},
   "outputs": [],
   "source": []
  },
  {
   "cell_type": "code",
   "execution_count": null,
   "id": "9759c2ea-4b2c-44ab-b6c6-e96f925adc34",
   "metadata": {},
   "outputs": [],
   "source": []
  }
 ],
 "metadata": {
  "kernelspec": {
   "display_name": "Python 3",
   "language": "python",
   "name": "python3"
  },
  "language_info": {
   "codemirror_mode": {
    "name": "ipython",
    "version": 3
   },
   "file_extension": ".py",
   "mimetype": "text/x-python",
   "name": "python",
   "nbconvert_exporter": "python",
   "pygments_lexer": "ipython3",
   "version": "3.9.5"
  }
 },
 "nbformat": 4,
 "nbformat_minor": 5
}
