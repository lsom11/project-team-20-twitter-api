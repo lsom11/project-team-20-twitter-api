{
 "cells": [
  {
   "cell_type": "code",
   "execution_count": 1,
   "id": "5c2a7344-6167-4952-bf8d-a96aa2a31e59",
   "metadata": {},
   "outputs": [
    {
     "name": "stdout",
     "output_type": "stream",
     "text": [
      "Requirement already satisfied: pandas==1.2.4 in /usr/local/lib/python3.9/site-packages (from -r requirements.txt (line 1)) (1.2.4)\n",
      "Requirement already satisfied: tweepy==3.10.0 in /usr/local/lib/python3.9/site-packages (from -r requirements.txt (line 2)) (3.10.0)\n",
      "Requirement already satisfied: pyyaml==5.4.1 in /usr/local/lib/python3.9/site-packages (from -r requirements.txt (line 3)) (5.4.1)\n",
      "Requirement already satisfied: numpy>=1.16.5 in /usr/local/lib/python3.9/site-packages (from pandas==1.2.4->-r requirements.txt (line 1)) (1.20.3)\n",
      "Requirement already satisfied: python-dateutil>=2.7.3 in /usr/local/lib/python3.9/site-packages (from pandas==1.2.4->-r requirements.txt (line 1)) (2.8.1)\n",
      "Requirement already satisfied: pytz>=2017.3 in /usr/local/lib/python3.9/site-packages (from pandas==1.2.4->-r requirements.txt (line 1)) (2021.1)\n",
      "Requirement already satisfied: six>=1.10.0 in /usr/local/lib/python3.9/site-packages (from tweepy==3.10.0->-r requirements.txt (line 2)) (1.16.0)\n",
      "Requirement already satisfied: requests[socks]>=2.11.1 in /usr/local/lib/python3.9/site-packages (from tweepy==3.10.0->-r requirements.txt (line 2)) (2.25.1)\n",
      "Requirement already satisfied: requests-oauthlib>=0.7.0 in /usr/local/lib/python3.9/site-packages (from tweepy==3.10.0->-r requirements.txt (line 2)) (1.3.0)\n",
      "Requirement already satisfied: oauthlib>=3.0.0 in /usr/local/lib/python3.9/site-packages (from requests-oauthlib>=0.7.0->tweepy==3.10.0->-r requirements.txt (line 2)) (3.1.1)\n",
      "Requirement already satisfied: certifi>=2017.4.17 in /usr/local/lib/python3.9/site-packages (from requests[socks]>=2.11.1->tweepy==3.10.0->-r requirements.txt (line 2)) (2021.5.30)\n",
      "Requirement already satisfied: urllib3<1.27,>=1.21.1 in /usr/local/lib/python3.9/site-packages (from requests[socks]>=2.11.1->tweepy==3.10.0->-r requirements.txt (line 2)) (1.26.5)\n",
      "Requirement already satisfied: idna<3,>=2.5 in /usr/local/lib/python3.9/site-packages (from requests[socks]>=2.11.1->tweepy==3.10.0->-r requirements.txt (line 2)) (2.10)\n",
      "Requirement already satisfied: chardet<5,>=3.0.2 in /usr/local/lib/python3.9/site-packages (from requests[socks]>=2.11.1->tweepy==3.10.0->-r requirements.txt (line 2)) (4.0.0)\n",
      "Requirement already satisfied: PySocks!=1.5.7,>=1.5.6 in /usr/local/lib/python3.9/site-packages (from requests[socks]>=2.11.1->tweepy==3.10.0->-r requirements.txt (line 2)) (1.7.1)\n",
      "\u001b[33mWARNING: You are using pip version 21.1.2; however, version 21.1.3 is available.\n",
      "You should consider upgrading via the '/usr/local/opt/python@3.9/bin/python3.9 -m pip install --upgrade pip' command.\u001b[0m\n",
      "Note: you may need to restart the kernel to use updated packages.\n"
     ]
    }
   ],
   "source": [
    "pip install -r requirements.txt"
   ]
  },
  {
   "cell_type": "code",
   "execution_count": 2,
   "id": "5b864362-3bce-4b4b-a79b-d53df54c0794",
   "metadata": {},
   "outputs": [],
   "source": [
    "import yaml\n",
    "\n",
    "with open(\"config.yml\", 'r') as ymlfile:\n",
    "    cfg = yaml.safe_load(ymlfile)\n"
   ]
  },
  {
   "cell_type": "code",
   "execution_count": 43,
   "id": "e1a0cd93",
   "metadata": {},
   "outputs": [],
   "source": [
    "### SETUP ###\n",
    "\n",
    "import tweepy as tw\n",
    "import pandas as pd\n",
    "import datetime\n",
    "\n",
    "api_creds = cfg['api_creds']\n",
    "API_KEY = api_creds['API_KEY']\n",
    "API_SECRET = api_creds['API_SECRET']\n",
    "ACCESS_TOKEN = api_creds['ACCESS_TOKEN']\n",
    "ACCESS_SECRET = api_creds['ACCESS_SECRET']\n",
    "\n",
    "class TwitterApi:\n",
    "    def __init__(self):\n",
    "        self.api = None\n",
    "        self.raw_tweets = []\n",
    "        self.clean_tweets_df = pd.DataFrame()\n",
    "        \n",
    "        self.authenticate_api()\n",
    "        self.check_rate_limit()\n",
    "        \n",
    "    def exception_handler(func):\n",
    "        def inner_function(*args, **kwargs):\n",
    "            try:\n",
    "                func(*args, **kwargs)\n",
    "            except TypeError:\n",
    "                print(f\"{func.__name__} error\")\n",
    "        return inner_function\n",
    "        \n",
    "    @exception_handler\n",
    "    def authenticate_api(self, api_key=API_KEY, api_secret=API_SECRET):\n",
    "        auth = tw.OAuthHandler(API_KEY, API_SECRET)\n",
    "        auth.set_access_token(ACCESS_TOKEN, ACCESS_SECRET)\n",
    "        # authenticate\n",
    "        self.api = tw.API(auth, wait_on_rate_limit=True)\n",
    "    \n",
    "    @exception_handler\n",
    "    def check_rate_limit(self):\n",
    "        try:\n",
    "            data = self.api.rate_limit_status()\n",
    "            return data\n",
    "        except Exception as e:\n",
    "            raise(e)\n",
    "        \n",
    "    def get_raw_tweets_from_api(\n",
    "        self, \n",
    "        q, \n",
    "        tweet_mode,\n",
    "        date_range, \n",
    "        lang, \n",
    "        count\n",
    "    ):\n",
    "        tweet_list = []\n",
    "        try:\n",
    "#             for d in date_range:\n",
    "                for tweet in self.api.search(\n",
    "                  q=q,\n",
    "                  tweet_mode=tweet_mode,\n",
    "                  lang=lang,\n",
    "#                   since='2020-01-01',\n",
    "                  until='2021-07-14',\n",
    "                  count=count\n",
    "                ):\n",
    "                    tweet_list.append(tweet._json)\n",
    "        except RuntimeError as e:\n",
    "            raise(e)\n",
    "        \n",
    "        for tweet in tweet_list:\n",
    "            self.raw_tweets.append(tweet)\n",
    "\n",
    "    def get_date_range(self, start, end):\n",
    "        if not end:\n",
    "            end = pd.to_datetime(start) + pd.DateOffset(days=7)\n",
    "        date_range = pd.date_range(start=start, end=end, freq=\"W\").map(lambda t: t.strftime('%Y-%m-%d'))\n",
    "        return date_range\n",
    "    \n",
    "    def get_clean_tweets(self):\n",
    "        self.clean_tweets_df = pd.json_normalize(self.raw_tweets)\n",
    "    \n",
    "    def get_twitter_data_as_dataframe(\n",
    "        self, \n",
    "        q, \n",
    "        tweet_mode,\n",
    "        start, \n",
    "        end=None, \n",
    "        lang=\"en\", \n",
    "        count=500, \n",
    "    ):\n",
    "        date_range = self.get_date_range(start, end)\n",
    "        self.get_raw_tweets_from_api(q, tweet_mode, date_range, lang, count)\n",
    "        self.get_clean_tweets()\n",
    "        return self.clean_tweets_df\n",
    "    def get_historical_data(self):\n",
    "        SEARCH_QUERY = \"#globalwarming -filter:retweets\"\n",
    "        d = self.api.search_full_archive(\n",
    "            environment_name=\"Hobbyist\",\n",
    "            query=SEARCH_QUERY,\n",
    "            fromDate='2021-01-01',\n",
    "            toDate='2021-06-01'\n",
    "        )\n",
    "    "
   ]
  },
  {
   "cell_type": "code",
   "execution_count": 45,
   "id": "c381213c",
   "metadata": {
    "scrolled": true
   },
   "outputs": [
    {
     "ename": "TweepError",
     "evalue": "{'message': 'Forbidden: Authentication succeeded but account is not authorized to access this resource.', 'sent': '2021-07-11T17:20:07+00:00', 'transactionId': '034f7260e11ce432'}",
     "output_type": "error",
     "traceback": [
      "\u001b[0;31m---------------------------------------------------------------------------\u001b[0m",
      "\u001b[0;31mTweepError\u001b[0m                                Traceback (most recent call last)",
      "\u001b[0;32m<ipython-input-45-f67a8824e4d4>\u001b[0m in \u001b[0;36m<module>\u001b[0;34m\u001b[0m\n\u001b[1;32m      8\u001b[0m \u001b[0;34m\u001b[0m\u001b[0m\n\u001b[1;32m      9\u001b[0m \u001b[0mapi\u001b[0m \u001b[0;34m=\u001b[0m \u001b[0mTwitterApi\u001b[0m\u001b[0;34m(\u001b[0m\u001b[0;34m)\u001b[0m\u001b[0;34m\u001b[0m\u001b[0;34m\u001b[0m\u001b[0m\n\u001b[0;32m---> 10\u001b[0;31m \u001b[0mtweet_df\u001b[0m \u001b[0;34m=\u001b[0m \u001b[0mapi\u001b[0m\u001b[0;34m.\u001b[0m\u001b[0mget_historical_data\u001b[0m\u001b[0;34m(\u001b[0m\u001b[0;34m)\u001b[0m\u001b[0;34m\u001b[0m\u001b[0;34m\u001b[0m\u001b[0m\n\u001b[0m\u001b[1;32m     11\u001b[0m \u001b[0;31m# tweet_df = api.get_twitter_data_as_dataframe(q=SEARCH_QUERY, tweet_mode=TWEET_MODE, start=START, end=END, lang=LANG, count=COUNT)\u001b[0m\u001b[0;34m\u001b[0m\u001b[0;34m\u001b[0m\u001b[0;34m\u001b[0m\u001b[0m\n",
      "\u001b[0;32m<ipython-input-43-1975d2b8a532>\u001b[0m in \u001b[0;36mget_historical_data\u001b[0;34m(self)\u001b[0m\n\u001b[1;32m     93\u001b[0m     \u001b[0;32mdef\u001b[0m \u001b[0mget_historical_data\u001b[0m\u001b[0;34m(\u001b[0m\u001b[0mself\u001b[0m\u001b[0;34m)\u001b[0m\u001b[0;34m:\u001b[0m\u001b[0;34m\u001b[0m\u001b[0;34m\u001b[0m\u001b[0m\n\u001b[1;32m     94\u001b[0m         \u001b[0mSEARCH_QUERY\u001b[0m \u001b[0;34m=\u001b[0m \u001b[0;34m\"#globalwarming -filter:retweets\"\u001b[0m\u001b[0;34m\u001b[0m\u001b[0;34m\u001b[0m\u001b[0m\n\u001b[0;32m---> 95\u001b[0;31m         d = self.api.search_full_archive(\n\u001b[0m\u001b[1;32m     96\u001b[0m             \u001b[0menvironment_name\u001b[0m\u001b[0;34m=\u001b[0m\u001b[0;34m\"Hobbyist\"\u001b[0m\u001b[0;34m,\u001b[0m\u001b[0;34m\u001b[0m\u001b[0;34m\u001b[0m\u001b[0m\n\u001b[1;32m     97\u001b[0m             \u001b[0mquery\u001b[0m\u001b[0;34m=\u001b[0m\u001b[0mSEARCH_QUERY\u001b[0m\u001b[0;34m,\u001b[0m\u001b[0;34m\u001b[0m\u001b[0;34m\u001b[0m\u001b[0m\n",
      "\u001b[0;32m/usr/local/lib/python3.9/site-packages/tweepy/api.py\u001b[0m in \u001b[0;36msearch_full_archive\u001b[0;34m(self, environment_name, *args, **kwargs)\u001b[0m\n\u001b[1;32m   1305\u001b[0m                             \u001b[0;34m'next'\u001b[0m\u001b[0;34m\u001b[0m\u001b[0;34m\u001b[0m\u001b[0m\n\u001b[1;32m   1306\u001b[0m         \"\"\"\n\u001b[0;32m-> 1307\u001b[0;31m         return bind_api(\n\u001b[0m\u001b[1;32m   1308\u001b[0m             \u001b[0mapi\u001b[0m\u001b[0;34m=\u001b[0m\u001b[0mself\u001b[0m\u001b[0;34m,\u001b[0m\u001b[0;34m\u001b[0m\u001b[0;34m\u001b[0m\u001b[0m\n\u001b[1;32m   1309\u001b[0m             \u001b[0mpath\u001b[0m\u001b[0;34m=\u001b[0m\u001b[0;34m'/tweets/search/fullarchive/{}.json'\u001b[0m\u001b[0;34m.\u001b[0m\u001b[0mformat\u001b[0m\u001b[0;34m(\u001b[0m\u001b[0menvironment_name\u001b[0m\u001b[0;34m)\u001b[0m\u001b[0;34m,\u001b[0m\u001b[0;34m\u001b[0m\u001b[0;34m\u001b[0m\u001b[0m\n",
      "\u001b[0;32m/usr/local/lib/python3.9/site-packages/tweepy/binder.py\u001b[0m in \u001b[0;36m_call\u001b[0;34m(*args, **kwargs)\u001b[0m\n\u001b[1;32m    251\u001b[0m                 \u001b[0;32mreturn\u001b[0m \u001b[0mmethod\u001b[0m\u001b[0;34m\u001b[0m\u001b[0;34m\u001b[0m\u001b[0m\n\u001b[1;32m    252\u001b[0m             \u001b[0;32melse\u001b[0m\u001b[0;34m:\u001b[0m\u001b[0;34m\u001b[0m\u001b[0;34m\u001b[0m\u001b[0m\n\u001b[0;32m--> 253\u001b[0;31m                 \u001b[0;32mreturn\u001b[0m \u001b[0mmethod\u001b[0m\u001b[0;34m.\u001b[0m\u001b[0mexecute\u001b[0m\u001b[0;34m(\u001b[0m\u001b[0;34m)\u001b[0m\u001b[0;34m\u001b[0m\u001b[0;34m\u001b[0m\u001b[0m\n\u001b[0m\u001b[1;32m    254\u001b[0m         \u001b[0;32mfinally\u001b[0m\u001b[0;34m:\u001b[0m\u001b[0;34m\u001b[0m\u001b[0;34m\u001b[0m\u001b[0m\n\u001b[1;32m    255\u001b[0m             \u001b[0mmethod\u001b[0m\u001b[0;34m.\u001b[0m\u001b[0msession\u001b[0m\u001b[0;34m.\u001b[0m\u001b[0mclose\u001b[0m\u001b[0;34m(\u001b[0m\u001b[0;34m)\u001b[0m\u001b[0;34m\u001b[0m\u001b[0;34m\u001b[0m\u001b[0m\n",
      "\u001b[0;32m/usr/local/lib/python3.9/site-packages/tweepy/binder.py\u001b[0m in \u001b[0;36mexecute\u001b[0;34m(self)\u001b[0m\n\u001b[1;32m    232\u001b[0m                     \u001b[0;32mraise\u001b[0m \u001b[0mRateLimitError\u001b[0m\u001b[0;34m(\u001b[0m\u001b[0merror_msg\u001b[0m\u001b[0;34m,\u001b[0m \u001b[0mresp\u001b[0m\u001b[0;34m)\u001b[0m\u001b[0;34m\u001b[0m\u001b[0;34m\u001b[0m\u001b[0m\n\u001b[1;32m    233\u001b[0m                 \u001b[0;32melse\u001b[0m\u001b[0;34m:\u001b[0m\u001b[0;34m\u001b[0m\u001b[0;34m\u001b[0m\u001b[0m\n\u001b[0;32m--> 234\u001b[0;31m                     \u001b[0;32mraise\u001b[0m \u001b[0mTweepError\u001b[0m\u001b[0;34m(\u001b[0m\u001b[0merror_msg\u001b[0m\u001b[0;34m,\u001b[0m \u001b[0mresp\u001b[0m\u001b[0;34m,\u001b[0m \u001b[0mapi_code\u001b[0m\u001b[0;34m=\u001b[0m\u001b[0mapi_error_code\u001b[0m\u001b[0;34m)\u001b[0m\u001b[0;34m\u001b[0m\u001b[0;34m\u001b[0m\u001b[0m\n\u001b[0m\u001b[1;32m    235\u001b[0m \u001b[0;34m\u001b[0m\u001b[0m\n\u001b[1;32m    236\u001b[0m             \u001b[0;31m# Parse the response payload\u001b[0m\u001b[0;34m\u001b[0m\u001b[0;34m\u001b[0m\u001b[0;34m\u001b[0m\u001b[0m\n",
      "\u001b[0;31mTweepError\u001b[0m: {'message': 'Forbidden: Authentication succeeded but account is not authorized to access this resource.', 'sent': '2021-07-11T17:20:07+00:00', 'transactionId': '034f7260e11ce432'}"
     ]
    }
   ],
   "source": [
    "SEARCH_QUERY = \"#globalwarming -filter:retweets\"\n",
    "## If end is None then you will only get one week of data\n",
    "START = \"2021-01-01\"\n",
    "END = None\n",
    "LANG = \"en\"\n",
    "COUNT = 500\n",
    "TWEET_MODE = 'extended'\n",
    "\n",
    "api = TwitterApi()\n",
    "tweet_df = api.get_historical_data()\n",
    "# tweet_df = api.get_twitter_data_as_dataframe(q=SEARCH_QUERY, tweet_mode=TWEET_MODE, start=START, end=END, lang=LANG, count=COUNT)"
   ]
  },
  {
   "cell_type": "code",
   "execution_count": 42,
   "id": "5d1ea84d-d63f-4751-b8f4-21ecba945e4d",
   "metadata": {},
   "outputs": [
    {
     "data": {
      "text/plain": [
       "(100, 154)"
      ]
     },
     "execution_count": 42,
     "metadata": {},
     "output_type": "execute_result"
    }
   ],
   "source": [
    "tweet_df.shape"
   ]
  },
  {
   "cell_type": "code",
   "execution_count": 29,
   "id": "36a825a2",
   "metadata": {},
   "outputs": [
    {
     "data": {
      "text/html": [
       "<div>\n",
       "<style scoped>\n",
       "    .dataframe tbody tr th:only-of-type {\n",
       "        vertical-align: middle;\n",
       "    }\n",
       "\n",
       "    .dataframe tbody tr th {\n",
       "        vertical-align: top;\n",
       "    }\n",
       "\n",
       "    .dataframe thead th {\n",
       "        text-align: right;\n",
       "    }\n",
       "</style>\n",
       "<table border=\"1\" class=\"dataframe\">\n",
       "  <thead>\n",
       "    <tr style=\"text-align: right;\">\n",
       "      <th></th>\n",
       "    </tr>\n",
       "  </thead>\n",
       "  <tbody>\n",
       "  </tbody>\n",
       "</table>\n",
       "</div>"
      ],
      "text/plain": [
       "Empty DataFrame\n",
       "Columns: []\n",
       "Index: []"
      ]
     },
     "execution_count": 29,
     "metadata": {},
     "output_type": "execute_result"
    }
   ],
   "source": [
    "tweet_df.head()"
   ]
  },
  {
   "cell_type": "code",
   "execution_count": null,
   "id": "321ac938-87c8-417a-9341-fd42e4f72a30",
   "metadata": {},
   "outputs": [],
   "source": []
  }
 ],
 "metadata": {
  "kernelspec": {
   "display_name": "Python 3",
   "language": "python",
   "name": "python3"
  },
  "language_info": {
   "codemirror_mode": {
    "name": "ipython",
    "version": 3
   },
   "file_extension": ".py",
   "mimetype": "text/x-python",
   "name": "python",
   "nbconvert_exporter": "python",
   "pygments_lexer": "ipython3",
   "version": "3.9.5"
  }
 },
 "nbformat": 4,
 "nbformat_minor": 5
}
