{
 "cells": [
  {
   "cell_type": "code",
   "execution_count": 1,
   "id": "fe469112",
   "metadata": {},
   "outputs": [
    {
     "name": "stdout",
     "output_type": "stream",
     "text": [
      "Requirement already satisfied: tweepy in c:\\users\\lucws\\appdata\\local\\packages\\pythonsoftwarefoundation.python.3.9_qbz5n2kfra8p0\\localcache\\local-packages\\python39\\site-packages (3.10.0)\n",
      "Requirement already satisfied: requests[socks]>=2.11.1 in c:\\users\\lucws\\appdata\\local\\packages\\pythonsoftwarefoundation.python.3.9_qbz5n2kfra8p0\\localcache\\local-packages\\python39\\site-packages (from tweepy) (2.25.1)\n",
      "Requirement already satisfied: requests-oauthlib>=0.7.0 in c:\\users\\lucws\\appdata\\local\\packages\\pythonsoftwarefoundation.python.3.9_qbz5n2kfra8p0\\localcache\\local-packages\\python39\\site-packages (from tweepy) (1.3.0)\n",
      "Requirement already satisfied: six>=1.10.0 in c:\\users\\lucws\\appdata\\local\\packages\\pythonsoftwarefoundation.python.3.9_qbz5n2kfra8p0\\localcache\\local-packages\\python39\\site-packages (from tweepy) (1.16.0)\n",
      "Requirement already satisfied: oauthlib>=3.0.0 in c:\\users\\lucws\\appdata\\local\\packages\\pythonsoftwarefoundation.python.3.9_qbz5n2kfra8p0\\localcache\\local-packages\\python39\\site-packages (from requests-oauthlib>=0.7.0->tweepy) (3.1.0)\n",
      "Requirement already satisfied: chardet<5,>=3.0.2 in c:\\users\\lucws\\appdata\\local\\packages\\pythonsoftwarefoundation.python.3.9_qbz5n2kfra8p0\\localcache\\local-packages\\python39\\site-packages (from requests[socks]>=2.11.1->tweepy) (4.0.0)\n",
      "Requirement already satisfied: idna<3,>=2.5 in c:\\users\\lucws\\appdata\\local\\packages\\pythonsoftwarefoundation.python.3.9_qbz5n2kfra8p0\\localcache\\local-packages\\python39\\site-packages (from requests[socks]>=2.11.1->tweepy) (2.10)\n",
      "Requirement already satisfied: urllib3<1.27,>=1.21.1 in c:\\users\\lucws\\appdata\\local\\packages\\pythonsoftwarefoundation.python.3.9_qbz5n2kfra8p0\\localcache\\local-packages\\python39\\site-packages (from requests[socks]>=2.11.1->tweepy) (1.26.5)\n",
      "Requirement already satisfied: certifi>=2017.4.17 in c:\\users\\lucws\\appdata\\local\\packages\\pythonsoftwarefoundation.python.3.9_qbz5n2kfra8p0\\localcache\\local-packages\\python39\\site-packages (from requests[socks]>=2.11.1->tweepy) (2020.12.5)\n",
      "Requirement already satisfied: PySocks!=1.5.7,>=1.5.6 in c:\\users\\lucws\\appdata\\local\\packages\\pythonsoftwarefoundation.python.3.9_qbz5n2kfra8p0\\localcache\\local-packages\\python39\\site-packages (from requests[socks]>=2.11.1->tweepy) (1.7.1)\n",
      "Note: you may need to restart the kernel to use updated packages.\n"
     ]
    }
   ],
   "source": [
    "pip install tweepy"
   ]
  },
  {
   "cell_type": "code",
   "execution_count": 2,
   "id": "e1a0cd93",
   "metadata": {},
   "outputs": [],
   "source": [
    "### SETUP ###\n",
    "\n",
    "import tweepy as tw\n",
    "import pandas as pd\n",
    "\n",
    "API_KEY = \"6KmfpPDEF6ZHwtYdRzrDoDSn8\"\n",
    "API_SECRET = \"NAm8MO1hTnz2debLFzNEpqkJcUZ2itwTCkXcod78t42pWrmzON\"\n",
    "\n",
    "class TwitterApi:\n",
    "    def __init__(self):\n",
    "        self.api = None\n",
    "        self.raw_tweets = []\n",
    "        self.clean_tweets = []\n",
    "        \n",
    "        self.authenticate_api()\n",
    "        \n",
    "    def exception_handler(func):\n",
    "        def inner_function(*args, **kwargs):\n",
    "            try:\n",
    "                func(*args, **kwargs)\n",
    "            except TypeError:\n",
    "                print(f\"{func.__name__} error\")\n",
    "        return inner_function\n",
    "        \n",
    "    @exception_handler\n",
    "    def authenticate_api(self, api_key=API_KEY, api_secret=API_SECRET):\n",
    "        auth = tw.OAuthHandler(API_KEY, API_SECRET)\n",
    "        # authenticate\n",
    "        self.api = tw.API(auth, wait_on_rate_limit=True)\n",
    "\n",
    "    @staticmethod\n",
    "    def build_tweet_list(tweets):\n",
    "        tweets_copy = []\n",
    "        for tweet in tweets:\n",
    "            tweets_copy.append(tweet._json)\n",
    "        return tweets_copy\n",
    "        \n",
    "    def get_raw_tweets_from_api(\n",
    "        self, \n",
    "        q, \n",
    "        since, \n",
    "        until=None, \n",
    "        lang=\"en\", \n",
    "        items=500, \n",
    "        method='append'\n",
    "    ):\n",
    "        tweets_cursor = tw.Cursor(self.api.search,\n",
    "              q=q,\n",
    "              lang=lang,\n",
    "              since=since, \n",
    "              until=until).items(items)\n",
    "    \n",
    "        tweets_list = self.build_tweet_list(tweets_cursor)\n",
    "        \n",
    "        if method == 'append':\n",
    "            self.raw_tweets.append(tweets_list)\n",
    "        else:\n",
    "            self.raw_tweets = tweets_list\n",
    "    \n",
    "    def get_clean_tweets(self):\n",
    "        self.clean_tweets_df = pd.json_normalize(self.raw_tweets)\n",
    "    \n",
    "    @exception_handler\n",
    "    def get_twitter_data_as_dataframe(\n",
    "        self, \n",
    "        q, \n",
    "        since, \n",
    "        until=None, \n",
    "        lang=\"en\", \n",
    "        items=500, \n",
    "        method='append'\n",
    "    ):\n",
    "        self.get_raw_tweets_from_api(q, since, until, lang, items, method)\n",
    "        self.get_clean_tweets()\n",
    "        return self.clean_tweets_df\n",
    "    "
   ]
  },
  {
   "cell_type": "code",
   "execution_count": 3,
   "id": "c381213c",
   "metadata": {
    "scrolled": true
   },
   "outputs": [],
   "source": [
    "SEARCH_QUERY = \"#globalwarming -filter:retweets\"\n",
    "## keep these within a year or we will break twitter\n",
    "SINCE = \"2020-01-01\"\n",
    "UNTIL = \"2020-01-31\"\n",
    "METHOD = 'overwrite'\n",
    "LANG = \"en\"\n",
    "ITEMS = 500\n",
    "\n",
    "api = TwitterApi()\n",
    "tweet_df = api.get_twitter_data_as_dataframe(q=SEARCH_QUERY, since=SINCE, until=UNTIL, lang=LANG, method=METHOD, items=ITEMS)\n"
   ]
  },
  {
   "cell_type": "code",
   "execution_count": 4,
   "id": "36a825a2",
   "metadata": {},
   "outputs": [],
   "source": [
    "tweet_df"
   ]
  },
  {
   "cell_type": "code",
   "execution_count": null,
   "id": "5e5ebc5f",
   "metadata": {},
   "outputs": [],
   "source": [
    "### TWEET BODY\n",
    "import json\n",
    "first_tweet = tweets_copy[0]\n",
    "tweet_fields = first_tweet._json.keys()\n",
    "for tweet_field in tweet_fields:\n",
    "    print(tweet_field)"
   ]
  },
  {
   "cell_type": "code",
   "execution_count": null,
   "id": "a78127d9",
   "metadata": {},
   "outputs": [],
   "source": [
    "# TWEET USER BODY\n",
    "tweet_fields_user = first_tweet.user._json.keys()\n",
    "for tweet_field in tweet_fields_user:\n",
    "    print(tweet_field)"
   ]
  }
 ],
 "metadata": {
  "kernelspec": {
   "display_name": "Python 3",
   "language": "python",
   "name": "python3"
  },
  "language_info": {
   "codemirror_mode": {
    "name": "ipython",
    "version": 3
   },
   "file_extension": ".py",
   "mimetype": "text/x-python",
   "name": "python",
   "nbconvert_exporter": "python",
   "pygments_lexer": "ipython3",
   "version": "3.9.5"
  }
 },
 "nbformat": 4,
 "nbformat_minor": 5
}
