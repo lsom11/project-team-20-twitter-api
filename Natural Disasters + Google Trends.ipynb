{
 "cells": [
  {
   "cell_type": "code",
   "execution_count": 3,
   "metadata": {},
   "outputs": [],
   "source": [
    "import pandas as pd\n",
    "import seaborn as sns\n",
    "from datetime import datetime\n",
    "import matplotlib.pyplot as plt"
   ]
  },
  {
   "cell_type": "code",
   "execution_count": 54,
   "metadata": {},
   "outputs": [],
   "source": [
    "def snake_case_all_and_remove_columns(df, keep_columns):\n",
    "    columns_rename = {}\n",
    "    for i in list(df.columns):\n",
    "        columns_rename[i] = i.lower().replace(\"'\", '').split(\" (\")[0].replace(' ', '_').replace('no_', 'nb_')\n",
    "    return df[keep_columns].rename(columns=columns_rename)\n",
    "\n",
    "\n",
    "def fillnas(df, columns_na_fills):\n",
    "    for i in columns_na_fills.keys():\n",
    "        df.loc[df[i].isnull(),i]=columns_na_fills[i]\n",
    "    return df\n",
    "\n",
    "\n",
    "def change_columns_type(df, cols_dict):\n",
    "    for c in cols_dict.keys():\n",
    "        if cols_dict[c] == 'int':\n",
    "            df[c] = df[c].astype(int)\n",
    "        elif cols_dict[c] == 'str':\n",
    "            df[c] = df[c].astype(str)\n",
    "        elif cols_dict[c] == 'float':\n",
    "            df[c] = df[c].astype(float)\n",
    "    return df\n",
    "\n",
    "keep_cols = ['Dis No', 'Year', 'Seq', 'Disaster Group', 'Disaster Subgroup', 'Disaster Type', 'Disaster Subtype', \n",
    "             'Disaster Subsubtype', 'Event Name', 'Country', 'ISO', 'Continent', 'Location', 'Origin', 'Associated Dis',\n",
    "             'Associated Dis2', 'Aid Contribution', 'Dis Mag Value', 'Dis Mag Scale', 'Latitude', 'Longitude', 'Local Time',\n",
    "             'River Basin',  'Start Year', 'Start Month', 'Start Day', 'End Year', 'End Month','End Day', 'Total Deaths', \n",
    "             'No Injured', 'No Affected', 'No Homeless', 'Geo Locations','Total Affected', \"Reconstruction Costs ('000 US$)\",\n",
    "             \"Insured Damages ('000 US$)\", \"Total Damages ('000 US$)\"]\n",
    "\n",
    "columns_na_fills = {'start_month' : 1, \n",
    "                    'start_day' : 1, \n",
    "                    'end_month' : 1, \n",
    "                    'end_day' : 1}\n",
    "\n",
    "\n",
    "change_cols = {'start_year' : 'str',\n",
    "               'start_month' : 'str', \n",
    "               'start_day' : 'str', \n",
    "               'end_year' : 'str', \n",
    "               'end_month' : 'str', \n",
    "               'end_day' : 'str',\n",
    "              }\n",
    "\n",
    "df = pd.read_csv('data\\\\natural_disasters_raw.csv', sep=';')\n",
    "\n",
    "df_clean = (df.drop_duplicates()\n",
    "              .pipe(snake_case_all_and_remove_columns, keep_cols)\n",
    "              .pipe(fillnas, columns_na_fills)\n",
    "              #.pipe(change_columns_type, change_cols)   \n",
    "              .assign(start_date = lambda df: pd.to_datetime(dict(year=df.start_year, month=df.start_month, day=df.start_day)\n",
    "                                                             , format='%Y-%m-%d', errors='coerce'))\n",
    "              .assign(end_date = lambda df: pd.to_datetime(dict(year=df.end_year, month=df.end_month, day=df.end_day)\n",
    "                                                              , format='%Y-%m-%d', errors='coerce'))    \n",
    "                     )\n",
    "\n",
    "df_clean['start_year'] = df_clean['start_year'].astype(int).astype(str)\n",
    "df_clean['start_month'] = df_clean['start_month'].astype(float).astype(int).astype(str)\n",
    "df_clean['start_month'] = df_clean['start_month'].apply(lambda x: x if len(x) > 1 else ('0'+x))\n",
    "df_clean['start_ym'] = df_clean['start_year'] + '-' + df_clean['start_month']"
   ]
  },
  {
   "cell_type": "code",
   "execution_count": 70,
   "metadata": {},
   "outputs": [],
   "source": [
    "dis_grouped = df_clean.groupby('start_ym').count()[['dis_no']].reset_index()"
   ]
  },
  {
   "cell_type": "code",
   "execution_count": 10,
   "metadata": {},
   "outputs": [],
   "source": [
    "df_trend = pd.read_csv('data\\\\climate_change_topic_google_trends.csv', sep=',')"
   ]
  },
  {
   "cell_type": "code",
   "execution_count": 68,
   "metadata": {},
   "outputs": [],
   "source": [
    "df_trend_clean = df_trend.pipe(snake_case_all_and_remove_columns, df_trend.columns)"
   ]
  },
  {
   "cell_type": "code",
   "execution_count": 69,
   "metadata": {},
   "outputs": [
    {
     "data": {
      "text/html": [
       "<div>\n",
       "<style scoped>\n",
       "    .dataframe tbody tr th:only-of-type {\n",
       "        vertical-align: middle;\n",
       "    }\n",
       "\n",
       "    .dataframe tbody tr th {\n",
       "        vertical-align: top;\n",
       "    }\n",
       "\n",
       "    .dataframe thead th {\n",
       "        text-align: right;\n",
       "    }\n",
       "</style>\n",
       "<table border=\"1\" class=\"dataframe\">\n",
       "  <thead>\n",
       "    <tr style=\"text-align: right;\">\n",
       "      <th></th>\n",
       "      <th>month</th>\n",
       "      <th>climate_change_worldwide</th>\n",
       "    </tr>\n",
       "  </thead>\n",
       "  <tbody>\n",
       "    <tr>\n",
       "      <th>0</th>\n",
       "      <td>2004-01</td>\n",
       "      <td>27</td>\n",
       "    </tr>\n",
       "    <tr>\n",
       "      <th>1</th>\n",
       "      <td>2004-02</td>\n",
       "      <td>37</td>\n",
       "    </tr>\n",
       "    <tr>\n",
       "      <th>2</th>\n",
       "      <td>2004-03</td>\n",
       "      <td>39</td>\n",
       "    </tr>\n",
       "    <tr>\n",
       "      <th>3</th>\n",
       "      <td>2004-04</td>\n",
       "      <td>33</td>\n",
       "    </tr>\n",
       "    <tr>\n",
       "      <th>4</th>\n",
       "      <td>2004-05</td>\n",
       "      <td>36</td>\n",
       "    </tr>\n",
       "  </tbody>\n",
       "</table>\n",
       "</div>"
      ],
      "text/plain": [
       "     month  climate_change_worldwide\n",
       "0  2004-01                        27\n",
       "1  2004-02                        37\n",
       "2  2004-03                        39\n",
       "3  2004-04                        33\n",
       "4  2004-05                        36"
      ]
     },
     "execution_count": 69,
     "metadata": {},
     "output_type": "execute_result"
    }
   ],
   "source": [
    "df_trend_clean.head()"
   ]
  },
  {
   "cell_type": "code",
   "execution_count": 73,
   "metadata": {},
   "outputs": [],
   "source": [
    "df_merge = df_trend_clean.merge(dis_grouped, how='left', left_on='month', right_on = 'start_ym').fillna(0)"
   ]
  },
  {
   "cell_type": "code",
   "execution_count": 74,
   "metadata": {},
   "outputs": [
    {
     "data": {
      "text/plain": [
       "<matplotlib.axes._subplots.AxesSubplot at 0x1e21ec9b5c8>"
      ]
     },
     "execution_count": 74,
     "metadata": {},
     "output_type": "execute_result"
    },
    {
     "data": {
      "image/png": "[encoded data removed]",
      "text/plain": [
       "<Figure size 432x288 with 1 Axes>"
      ]
     },
     "metadata": {
      "needs_background": "light"
     },
     "output_type": "display_data"
    }
   ],
   "source": [
    "sns.scatterplot(data=df_merge, x=\"climate_change_worldwide\", y=\"dis_no\")"
   ]
  },
  {
   "cell_type": "code",
   "execution_count": 77,
   "metadata": {},
   "outputs": [
    {
     "data": {
      "text/plain": [
       "<matplotlib.axes._subplots.AxesSubplot at 0x1e22a32cbc8>"
      ]
     },
     "execution_count": 77,
     "metadata": {},
     "output_type": "execute_result"
    },
    {
     "data": {
      "image/png": "[encoded data removed]",
      "text/plain": [
       "<Figure size 432x288 with 1 Axes>"
      ]
     },
     "metadata": {
      "needs_background": "light"
     },
     "output_type": "display_data"
    }
   ],
   "source": [
    "df_merge.set_index('month')[['climate_change_worldwide', 'dis_no']].plot()"
   ]
  },
  {
   "cell_type": "code",
   "execution_count": 87,
   "metadata": {},
   "outputs": [
    {
     "data": {
      "text/html": [
       "<div>\n",
       "<style scoped>\n",
       "    .dataframe tbody tr th:only-of-type {\n",
       "        vertical-align: middle;\n",
       "    }\n",
       "\n",
       "    .dataframe tbody tr th {\n",
       "        vertical-align: top;\n",
       "    }\n",
       "\n",
       "    .dataframe thead th {\n",
       "        text-align: right;\n",
       "    }\n",
       "</style>\n",
       "<table border=\"1\" class=\"dataframe\">\n",
       "  <thead>\n",
       "    <tr style=\"text-align: right;\">\n",
       "      <th></th>\n",
       "      <th>dis_no</th>\n",
       "      <th>year</th>\n",
       "      <th>seq</th>\n",
       "      <th>disaster_group</th>\n",
       "      <th>disaster_subgroup</th>\n",
       "      <th>disaster_type</th>\n",
       "      <th>disaster_subtype</th>\n",
       "      <th>disaster_subsubtype</th>\n",
       "      <th>event_name</th>\n",
       "      <th>country</th>\n",
       "      <th>...</th>\n",
       "      <th>nb_affected</th>\n",
       "      <th>nb_homeless</th>\n",
       "      <th>geo_locations</th>\n",
       "      <th>total_affected</th>\n",
       "      <th>reconstruction_costs</th>\n",
       "      <th>insured_damages</th>\n",
       "      <th>total_damages</th>\n",
       "      <th>start_date</th>\n",
       "      <th>end_date</th>\n",
       "      <th>start_ym</th>\n",
       "    </tr>\n",
       "  </thead>\n",
       "  <tbody>\n",
       "    <tr>\n",
       "      <th>0</th>\n",
       "      <td>1990-9579-CMR</td>\n",
       "      <td>1990</td>\n",
       "      <td>9579</td>\n",
       "      <td>Natural</td>\n",
       "      <td>Climatological</td>\n",
       "      <td>Drought</td>\n",
       "      <td>Drought</td>\n",
       "      <td>NaN</td>\n",
       "      <td>NaN</td>\n",
       "      <td>Cameroon</td>\n",
       "      <td>...</td>\n",
       "      <td>186900.0</td>\n",
       "      <td>NaN</td>\n",
       "      <td>NaN</td>\n",
       "      <td>186900.0</td>\n",
       "      <td>NaN</td>\n",
       "      <td>NaN</td>\n",
       "      <td>NaN</td>\n",
       "      <td>1990-01-01</td>\n",
       "      <td>1991-01-01</td>\n",
       "      <td>1990-01</td>\n",
       "    </tr>\n",
       "    <tr>\n",
       "      <th>1</th>\n",
       "      <td>1990-0230-ECU</td>\n",
       "      <td>1990</td>\n",
       "      <td>230</td>\n",
       "      <td>Natural</td>\n",
       "      <td>Geophysical</td>\n",
       "      <td>Earthquake</td>\n",
       "      <td>Ground movement</td>\n",
       "      <td>NaN</td>\n",
       "      <td>NaN</td>\n",
       "      <td>Ecuador</td>\n",
       "      <td>...</td>\n",
       "      <td>6500.0</td>\n",
       "      <td>NaN</td>\n",
       "      <td>NaN</td>\n",
       "      <td>6510.0</td>\n",
       "      <td>NaN</td>\n",
       "      <td>NaN</td>\n",
       "      <td>NaN</td>\n",
       "      <td>1990-08-11</td>\n",
       "      <td>1990-08-11</td>\n",
       "      <td>1990-08</td>\n",
       "    </tr>\n",
       "    <tr>\n",
       "      <th>2</th>\n",
       "      <td>1990-0272-AUS</td>\n",
       "      <td>1990</td>\n",
       "      <td>272</td>\n",
       "      <td>Natural</td>\n",
       "      <td>Meteorological</td>\n",
       "      <td>Storm</td>\n",
       "      <td>Convective storm</td>\n",
       "      <td>Hail</td>\n",
       "      <td>NaN</td>\n",
       "      <td>Australia</td>\n",
       "      <td>...</td>\n",
       "      <td>NaN</td>\n",
       "      <td>NaN</td>\n",
       "      <td>NaN</td>\n",
       "      <td>NaN</td>\n",
       "      <td>NaN</td>\n",
       "      <td>389100.0</td>\n",
       "      <td>389100.0</td>\n",
       "      <td>1990-03-18</td>\n",
       "      <td>1990-03-18</td>\n",
       "      <td>1990-03</td>\n",
       "    </tr>\n",
       "    <tr>\n",
       "      <th>3</th>\n",
       "      <td>1990-0361-AUT</td>\n",
       "      <td>1990</td>\n",
       "      <td>361</td>\n",
       "      <td>Natural</td>\n",
       "      <td>Meteorological</td>\n",
       "      <td>Storm</td>\n",
       "      <td>Convective storm</td>\n",
       "      <td>Severe storm</td>\n",
       "      <td>NaN</td>\n",
       "      <td>Austria</td>\n",
       "      <td>...</td>\n",
       "      <td>NaN</td>\n",
       "      <td>NaN</td>\n",
       "      <td>NaN</td>\n",
       "      <td>NaN</td>\n",
       "      <td>NaN</td>\n",
       "      <td>28200.0</td>\n",
       "      <td>NaN</td>\n",
       "      <td>1990-05-22</td>\n",
       "      <td>1990-05-22</td>\n",
       "      <td>1990-05</td>\n",
       "    </tr>\n",
       "    <tr>\n",
       "      <th>4</th>\n",
       "      <td>1990-9059-BOL</td>\n",
       "      <td>1990</td>\n",
       "      <td>9059</td>\n",
       "      <td>Natural</td>\n",
       "      <td>Climatological</td>\n",
       "      <td>Drought</td>\n",
       "      <td>Drought</td>\n",
       "      <td>NaN</td>\n",
       "      <td>NaN</td>\n",
       "      <td>Bolivia (Plurinational State of)</td>\n",
       "      <td>...</td>\n",
       "      <td>283160.0</td>\n",
       "      <td>NaN</td>\n",
       "      <td>NaN</td>\n",
       "      <td>283160.0</td>\n",
       "      <td>NaN</td>\n",
       "      <td>NaN</td>\n",
       "      <td>NaN</td>\n",
       "      <td>1990-01-01</td>\n",
       "      <td>1990-01-01</td>\n",
       "      <td>1990-01</td>\n",
       "    </tr>\n",
       "  </tbody>\n",
       "</table>\n",
       "<p>5 rows × 41 columns</p>\n",
       "</div>"
      ],
      "text/plain": [
       "          dis_no  year   seq disaster_group disaster_subgroup disaster_type  \\\n",
       "0  1990-9579-CMR  1990  9579        Natural    Climatological       Drought   \n",
       "1  1990-0230-ECU  1990   230        Natural       Geophysical    Earthquake   \n",
       "2  1990-0272-AUS  1990   272        Natural    Meteorological         Storm   \n",
       "3  1990-0361-AUT  1990   361        Natural    Meteorological         Storm   \n",
       "4  1990-9059-BOL  1990  9059        Natural    Climatological       Drought   \n",
       "\n",
       "   disaster_subtype disaster_subsubtype event_name  \\\n",
       "0           Drought                 NaN        NaN   \n",
       "1   Ground movement                 NaN        NaN   \n",
       "2  Convective storm                Hail        NaN   \n",
       "3  Convective storm        Severe storm        NaN   \n",
       "4           Drought                 NaN        NaN   \n",
       "\n",
       "                            country  ... nb_affected nb_homeless  \\\n",
       "0                          Cameroon  ...    186900.0         NaN   \n",
       "1                           Ecuador  ...      6500.0         NaN   \n",
       "2                         Australia  ...         NaN         NaN   \n",
       "3                           Austria  ...         NaN         NaN   \n",
       "4  Bolivia (Plurinational State of)  ...    283160.0         NaN   \n",
       "\n",
       "  geo_locations total_affected reconstruction_costs insured_damages  \\\n",
       "0           NaN       186900.0                  NaN             NaN   \n",
       "1           NaN         6510.0                  NaN             NaN   \n",
       "2           NaN            NaN                  NaN        389100.0   \n",
       "3           NaN            NaN                  NaN         28200.0   \n",
       "4           NaN       283160.0                  NaN             NaN   \n",
       "\n",
       "   total_damages  start_date   end_date start_ym  \n",
       "0            NaN  1990-01-01 1991-01-01  1990-01  \n",
       "1            NaN  1990-08-11 1990-08-11  1990-08  \n",
       "2       389100.0  1990-03-18 1990-03-18  1990-03  \n",
       "3            NaN  1990-05-22 1990-05-22  1990-05  \n",
       "4            NaN  1990-01-01 1990-01-01  1990-01  \n",
       "\n",
       "[5 rows x 41 columns]"
      ]
     },
     "execution_count": 87,
     "metadata": {},
     "output_type": "execute_result"
    }
   ],
   "source": [
    "df_clean.head()"
   ]
  },
  {
   "cell_type": "code",
   "execution_count": 102,
   "metadata": {},
   "outputs": [
    {
     "data": {
      "text/html": [
       "<div>\n",
       "<style scoped>\n",
       "    .dataframe tbody tr th:only-of-type {\n",
       "        vertical-align: middle;\n",
       "    }\n",
       "\n",
       "    .dataframe tbody tr th {\n",
       "        vertical-align: top;\n",
       "    }\n",
       "\n",
       "    .dataframe thead th {\n",
       "        text-align: right;\n",
       "    }\n",
       "</style>\n",
       "<table border=\"1\" class=\"dataframe\">\n",
       "  <thead>\n",
       "    <tr style=\"text-align: right;\">\n",
       "      <th></th>\n",
       "      <th>dis_no</th>\n",
       "    </tr>\n",
       "    <tr>\n",
       "      <th>country</th>\n",
       "      <th></th>\n",
       "    </tr>\n",
       "  </thead>\n",
       "  <tbody>\n",
       "    <tr>\n",
       "      <th>Indonesia</th>\n",
       "      <td>33</td>\n",
       "    </tr>\n",
       "    <tr>\n",
       "      <th>Brazil</th>\n",
       "      <td>11</td>\n",
       "    </tr>\n",
       "    <tr>\n",
       "      <th>Peru</th>\n",
       "      <td>9</td>\n",
       "    </tr>\n",
       "    <tr>\n",
       "      <th>Malaysia</th>\n",
       "      <td>7</td>\n",
       "    </tr>\n",
       "    <tr>\n",
       "      <th>Iran (Islamic Republic of)</th>\n",
       "      <td>7</td>\n",
       "    </tr>\n",
       "    <tr>\n",
       "      <th>Yemen</th>\n",
       "      <td>6</td>\n",
       "    </tr>\n",
       "    <tr>\n",
       "      <th>Rwanda</th>\n",
       "      <td>6</td>\n",
       "    </tr>\n",
       "    <tr>\n",
       "      <th>Congo (the Democratic Republic of the)</th>\n",
       "      <td>6</td>\n",
       "    </tr>\n",
       "    <tr>\n",
       "      <th>Colombia</th>\n",
       "      <td>6</td>\n",
       "    </tr>\n",
       "    <tr>\n",
       "      <th>Afghanistan</th>\n",
       "      <td>6</td>\n",
       "    </tr>\n",
       "  </tbody>\n",
       "</table>\n",
       "</div>"
      ],
      "text/plain": [
       "                                        dis_no\n",
       "country                                       \n",
       "Indonesia                                   33\n",
       "Brazil                                      11\n",
       "Peru                                         9\n",
       "Malaysia                                     7\n",
       "Iran (Islamic Republic of)                   7\n",
       "Yemen                                        6\n",
       "Rwanda                                       6\n",
       "Congo (the Democratic Republic of the)       6\n",
       "Colombia                                     6\n",
       "Afghanistan                                  6"
      ]
     },
     "execution_count": 102,
     "metadata": {},
     "output_type": "execute_result"
    }
   ],
   "source": [
    "df_clean.query(\"start_date >= '2020-01-01'\").query(\"disaster_type == 'Flood'\").groupby('country').count()[['dis_no']].sort_values('dis_no', ascending=False).head(10)"
   ]
  },
  {
   "cell_type": "code",
   "execution_count": 96,
   "metadata": {
    "scrolled": true
   },
   "outputs": [
    {
     "data": {
      "text/plain": [
       "<matplotlib.axes._subplots.AxesSubplot at 0x1e22294bb88>"
      ]
     },
     "execution_count": 96,
     "metadata": {},
     "output_type": "execute_result"
    },
    {
     "data": {
      "image/png": "[encoded data removed]",
      "text/plain": [
       "<Figure size 432x288 with 1 Axes>"
      ]
     },
     "metadata": {
      "needs_background": "light"
     },
     "output_type": "display_data"
    }
   ],
   "source": [
    "df_clean.query(\"start_date >= '2020-01-01'\").fillna(0).query(\"total_affected > 1000\").groupby('disaster_subtype').count()[['dis_no']].plot.bar()"
   ]
  },
  {
   "cell_type": "code",
   "execution_count": null,
   "metadata": {},
   "outputs": [],
   "source": []
  }
 ],
 "metadata": {
  "kernelspec": {
   "display_name": "Python 3",
   "language": "python",
   "name": "python3"
  },
  "language_info": {
   "codemirror_mode": {
    "name": "ipython",
    "version": 3
   },
   "file_extension": ".py",
   "mimetype": "text/x-python",
   "name": "python",
   "nbconvert_exporter": "python",
   "pygments_lexer": "ipython3",
   "version": "3.7.6"
  }
 },
 "nbformat": 4,
 "nbformat_minor": 4
}
