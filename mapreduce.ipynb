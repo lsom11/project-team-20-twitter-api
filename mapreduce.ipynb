{
 "cells": [
  {
   "cell_type": "code",
   "execution_count": 8,
   "id": "7002f13c-1e25-4118-9f5c-c036306d9911",
   "metadata": {},
   "outputs": [
    {
     "name": "stdout",
     "output_type": "stream",
     "text": [
      "+------+----------+--------------------+--------+-------------+--------------------+\n",
      "|target|        id|                date|    flag|         user|                text|\n",
      "+------+----------+--------------------+--------+-------------+--------------------+\n",
      "|     0|1754486895|Sun May 10 06:26:...|NO_QUERY|   Mamamia913|       Hate Holidays|\n",
      "|     0|1835216869|Mon May 18 05:27:...|NO_QUERY|  rumour58259| Still no validat...|\n",
      "|     0|1824033124|Sat May 16 23:48:...|NO_QUERY|TheAmazingCat| cant afford to s...|\n",
      "|     0|1827097010|Sun May 17 09:59:...|NO_QUERY|      hbustos| just got served ...|\n",
      "|     0|1677010163|Sat May 02 00:04:...|NO_QUERY|   h3mlockluv| on the way to wo...|\n",
      "|     0|1834850346|Mon May 18 04:24:...|NO_QUERY|   stoups2000|#OptusWirelessBro...|\n",
      "|     0|1565874014|Mon Apr 20 07:44:...|NO_QUERY|      jaomonk|$MS choppy waters...|\n",
      "|     0|1793137235|Thu May 14 01:30:...|NO_QUERY|  MisterBlerg|&quot;Lost&quot;'...|\n",
      "|     0|1686980615|Sun May 03 07:24:...|NO_QUERY|   TheDarrell|......Soo bored, ...|\n",
      "|     0|1753965324|Sun May 10 04:20:...|NO_QUERY|BlueInkStains|..I hate them a l...|\n",
      "+------+----------+--------------------+--------+-------------+--------------------+\n",
      "only showing top 10 rows\n",
      "\n"
     ]
    }
   ],
   "source": [
    "from pyspark.sql import SparkSession\n",
    "from pyspark.sql.types import StructType, StructField, IntegerType, StringType\n",
    "from pyspark.sql.functions import col\n",
    "\n",
    "tweet_file = \"data/tweets.csv\"\n",
    "spark = SparkSession.builder.appName(\"MapReducer\").getOrCreate()\n",
    "\n",
    "schema = StructType([\n",
    "    StructField(\"target\", IntegerType(), True),\n",
    "    StructField(\"id\", IntegerType(), True),\n",
    "    StructField(\"date\", StringType(), True),\n",
    "    StructField(\"flag\", StringType(), True),\n",
    "    StructField(\"user\", StringType(), True),\n",
    "    StructField(\"text\", StringType(), True)\n",
    "])\n",
    "\n",
    "\n",
    "tweet_data = spark.read.csv(tweet_file, header=False, schema=schema)\n",
    "tweet_data = tweet_data.dropDuplicates()\n",
    "\n",
    "tweet_data.show(10)\n",
    "\n",
    "# spark.stop()"
   ]
  },
  {
   "cell_type": "code",
   "execution_count": 16,
   "id": "2428795a-6344-4aa6-8421-7144ef0421f6",
   "metadata": {},
   "outputs": [
    {
     "name": "stdout",
     "output_type": "stream",
     "text": [
      "+------+----------+--------------------+--------+---------------+--------------------+\n",
      "|target|        id|                date|    flag|           user|                text|\n",
      "+------+----------+--------------------+--------+---------------+--------------------+\n",
      "|     0|1468471496|Tue Apr 07 01:52:...|NO_QUERY|         sijeka|@ianmack First se...|\n",
      "|     0|1558528534|Sun Apr 19 08:39:...|NO_QUERY|         RJ1968|Still having issu...|\n",
      "|     0|1677931583|Sat May 02 04:44:...|NO_QUERY|          hoyci|Am not at A1 GP t...|\n",
      "|     0|1678433897|Sat May 02 06:41:...|NO_QUERY|lipstickXlabels|Still drunk from ...|\n",
      "|     0|1833706488|Mon May 18 00:10:...|NO_QUERY|      krisalice|Still missing som...|\n",
      "|     0|1835216869|Mon May 18 05:27:...|NO_QUERY|    rumour58259| Still no validat...|\n",
      "|     0|1881951850|Fri May 22 05:55:...|NO_QUERY|        ksrocks|Still feel like c...|\n",
      "|     0|1979083498|Sun May 31 01:34:...|NO_QUERY|        dungkal|Fought off the sh...|\n",
      "|     0|1984457315|Sun May 31 15:08:...|NO_QUERY|    VioletsCRUK|@Karen230683 @Gla...|\n",
      "|     0|1989463977|Mon Jun 01 01:38:...|NO_QUERY|            jjx|Still. Can't. Sle...|\n",
      "+------+----------+--------------------+--------+---------------+--------------------+\n",
      "only showing top 10 rows\n",
      "\n"
     ]
    }
   ],
   "source": [
    "filter_list = (\"Still\")\n",
    "filtered_tweets = tweet_data.filter(tweet_data.text.contains(filter_list))\n",
    "filtered_tweets.show(10)\n",
    "# filtered_tweets.count()"
   ]
  },
  {
   "cell_type": "code",
   "execution_count": 21,
   "id": "9dd2df3e-f478-4b31-98c9-edffd676cdb4",
   "metadata": {},
   "outputs": [],
   "source": [
    "filtered_tweets.repartition(1).write.format(\"com.databricks.spark.csv\").option(\"header\", \"true\").save(\"data/filtered_tweets\")"
   ]
  },
  {
   "cell_type": "code",
   "execution_count": null,
   "id": "3c8e20d9-556f-4a60-9c0a-6bfe1e7123b8",
   "metadata": {},
   "outputs": [],
   "source": []
  },
  {
   "cell_type": "code",
   "execution_count": null,
   "id": "3ba02870-e2ec-4787-a831-bfabf6117973",
   "metadata": {},
   "outputs": [],
   "source": []
  },
  {
   "cell_type": "code",
   "execution_count": null,
   "id": "a819e776-9f45-4123-a3d0-71f498b17f05",
   "metadata": {},
   "outputs": [],
   "source": []
  },
  {
   "cell_type": "code",
   "execution_count": null,
   "id": "0dc41eb6-c632-4a24-a3f9-9a60b11d8092",
   "metadata": {},
   "outputs": [],
   "source": []
  },
  {
   "cell_type": "code",
   "execution_count": null,
   "id": "0af5dc28-104a-43b2-84a9-2fb07c566604",
   "metadata": {},
   "outputs": [],
   "source": []
  },
  {
   "cell_type": "code",
   "execution_count": null,
   "id": "96f94ea8-d510-4abc-a418-0c8e8e700960",
   "metadata": {},
   "outputs": [],
   "source": []
  },
  {
   "cell_type": "code",
   "execution_count": null,
   "id": "d260ccfb-d585-41c3-839b-a5cac18a5e62",
   "metadata": {},
   "outputs": [],
   "source": []
  },
  {
   "cell_type": "code",
   "execution_count": null,
   "id": "8f9971b8-8d1e-43b9-9219-5f62f9ba952f",
   "metadata": {},
   "outputs": [],
   "source": []
  },
  {
   "cell_type": "code",
   "execution_count": null,
   "id": "51e07344-81dc-4cf3-9391-df7cb30f2213",
   "metadata": {},
   "outputs": [],
   "source": []
  },
  {
   "cell_type": "code",
   "execution_count": null,
   "id": "49623631-1d74-4564-94a9-2dca5b96e6bd",
   "metadata": {},
   "outputs": [],
   "source": []
  }
 ],
 "metadata": {
  "kernelspec": {
   "display_name": "Python 3",
   "language": "python",
   "name": "python3"
  },
  "language_info": {
   "codemirror_mode": {
    "name": "ipython",
    "version": 3
   },
   "file_extension": ".py",
   "mimetype": "text/x-python",
   "name": "python",
   "nbconvert_exporter": "python",
   "pygments_lexer": "ipython3",
   "version": "3.9.5"
  }
 },
 "nbformat": 4,
 "nbformat_minor": 5
}
